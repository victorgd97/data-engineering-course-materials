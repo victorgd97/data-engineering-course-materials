{
 "metadata": {
  "language_info": {
   "codemirror_mode": {
    "name": "ipython",
    "version": 3
   },
   "file_extension": ".py",
   "mimetype": "text/x-python",
   "name": "python",
   "nbconvert_exporter": "python",
   "pygments_lexer": "ipython3",
   "version": "3.8.3-final"
  },
  "orig_nbformat": 2,
  "kernelspec": {
   "name": "Python 3.8.3 64-bit ('base': conda)",
   "display_name": "Python 3.8.3 64-bit ('base': conda)",
   "metadata": {
    "interpreter": {
     "hash": "dca0ade3e726a953b501b15e8e990130d2b7799f14cfd9f4271676035ebe5511"
    }
   }
  }
 },
 "nbformat": 4,
 "nbformat_minor": 2,
 "cells": [
  {
   "cell_type": "code",
   "execution_count": 1,
   "metadata": {},
   "outputs": [],
   "source": [
    "import pandas as pd"
   ]
  },
  {
   "cell_type": "code",
   "execution_count": 2,
   "metadata": {},
   "outputs": [
    {
     "output_type": "execute_result",
     "data": {
      "text/plain": [
       "              id  impact.gap  impact.magnitude  impact.significance  \\\n",
       "799   us100068jg        11.0               7.7                  971   \n",
       "6787  us10006exl        22.0               7.4                  843   \n",
       "4998  us10006d5h        21.0               7.2                  799   \n",
       "8002  us10006gbf        24.0               6.8                  972   \n",
       "7223  us10006fik        52.0               6.4                  630   \n",
       "\n",
       "      location.depth  location.distance  \\\n",
       "799           207.62              3.293   \n",
       "6787           10.00              2.852   \n",
       "4998            9.95              4.822   \n",
       "8002           84.07              1.797   \n",
       "7223           10.00              2.916   \n",
       "\n",
       "                                      location.full  location.latitude  \\\n",
       "799   28km SSW of Agrihan, Northern Mariana Islands            18.5439   \n",
       "6787                    South Georgia Island region           -55.2793   \n",
       "4998           109km E of Ile Hunter, New Caledonia           -22.4953   \n",
       "8002                         25km W of Chauk, Burma            20.9192   \n",
       "7223                    South Georgia Island region           -55.2775   \n",
       "\n",
       "      location.longitude                location.name  time.day  \\\n",
       "799             145.5410     Northern Mariana Islands        29   \n",
       "6787            -31.8740  South Georgia Island region        19   \n",
       "4998            173.1114                New Caledonia        11   \n",
       "8002             94.5789                        Burma        24   \n",
       "7223            -31.7546  South Georgia Island region        20   \n",
       "\n",
       "         time.epoch            time.full  time.hour  time.minute  time.month  \\\n",
       "799   1469827106510  2016-07-29 17:18:26         17           18           7   \n",
       "6787  1471591942730  2016-08-19 03:32:22          3           32           8   \n",
       "4998  1470965195140  2016-08-11 21:26:35         21           26           8   \n",
       "8002  1472034895000  2016-08-24 06:34:55          6           34           8   \n",
       "7223  1471751123740  2016-08-20 23:45:23         23           45           8   \n",
       "\n",
       "      time.second  time.year  \n",
       "799            26       2016  \n",
       "6787           22       2016  \n",
       "4998           35       2016  \n",
       "8002           55       2016  \n",
       "7223           23       2016  "
      ],
      "text/html": "<div>\n<style scoped>\n    .dataframe tbody tr th:only-of-type {\n        vertical-align: middle;\n    }\n\n    .dataframe tbody tr th {\n        vertical-align: top;\n    }\n\n    .dataframe thead th {\n        text-align: right;\n    }\n</style>\n<table border=\"1\" class=\"dataframe\">\n  <thead>\n    <tr style=\"text-align: right;\">\n      <th></th>\n      <th>id</th>\n      <th>impact.gap</th>\n      <th>impact.magnitude</th>\n      <th>impact.significance</th>\n      <th>location.depth</th>\n      <th>location.distance</th>\n      <th>location.full</th>\n      <th>location.latitude</th>\n      <th>location.longitude</th>\n      <th>location.name</th>\n      <th>time.day</th>\n      <th>time.epoch</th>\n      <th>time.full</th>\n      <th>time.hour</th>\n      <th>time.minute</th>\n      <th>time.month</th>\n      <th>time.second</th>\n      <th>time.year</th>\n    </tr>\n  </thead>\n  <tbody>\n    <tr>\n      <th>799</th>\n      <td>us100068jg</td>\n      <td>11.0</td>\n      <td>7.7</td>\n      <td>971</td>\n      <td>207.62</td>\n      <td>3.293</td>\n      <td>28km SSW of Agrihan, Northern Mariana Islands</td>\n      <td>18.5439</td>\n      <td>145.5410</td>\n      <td>Northern Mariana Islands</td>\n      <td>29</td>\n      <td>1469827106510</td>\n      <td>2016-07-29 17:18:26</td>\n      <td>17</td>\n      <td>18</td>\n      <td>7</td>\n      <td>26</td>\n      <td>2016</td>\n    </tr>\n    <tr>\n      <th>6787</th>\n      <td>us10006exl</td>\n      <td>22.0</td>\n      <td>7.4</td>\n      <td>843</td>\n      <td>10.00</td>\n      <td>2.852</td>\n      <td>South Georgia Island region</td>\n      <td>-55.2793</td>\n      <td>-31.8740</td>\n      <td>South Georgia Island region</td>\n      <td>19</td>\n      <td>1471591942730</td>\n      <td>2016-08-19 03:32:22</td>\n      <td>3</td>\n      <td>32</td>\n      <td>8</td>\n      <td>22</td>\n      <td>2016</td>\n    </tr>\n    <tr>\n      <th>4998</th>\n      <td>us10006d5h</td>\n      <td>21.0</td>\n      <td>7.2</td>\n      <td>799</td>\n      <td>9.95</td>\n      <td>4.822</td>\n      <td>109km E of Ile Hunter, New Caledonia</td>\n      <td>-22.4953</td>\n      <td>173.1114</td>\n      <td>New Caledonia</td>\n      <td>11</td>\n      <td>1470965195140</td>\n      <td>2016-08-11 21:26:35</td>\n      <td>21</td>\n      <td>26</td>\n      <td>8</td>\n      <td>35</td>\n      <td>2016</td>\n    </tr>\n    <tr>\n      <th>8002</th>\n      <td>us10006gbf</td>\n      <td>24.0</td>\n      <td>6.8</td>\n      <td>972</td>\n      <td>84.07</td>\n      <td>1.797</td>\n      <td>25km W of Chauk, Burma</td>\n      <td>20.9192</td>\n      <td>94.5789</td>\n      <td>Burma</td>\n      <td>24</td>\n      <td>1472034895000</td>\n      <td>2016-08-24 06:34:55</td>\n      <td>6</td>\n      <td>34</td>\n      <td>8</td>\n      <td>55</td>\n      <td>2016</td>\n    </tr>\n    <tr>\n      <th>7223</th>\n      <td>us10006fik</td>\n      <td>52.0</td>\n      <td>6.4</td>\n      <td>630</td>\n      <td>10.00</td>\n      <td>2.916</td>\n      <td>South Georgia Island region</td>\n      <td>-55.2775</td>\n      <td>-31.7546</td>\n      <td>South Georgia Island region</td>\n      <td>20</td>\n      <td>1471751123740</td>\n      <td>2016-08-20 23:45:23</td>\n      <td>23</td>\n      <td>45</td>\n      <td>8</td>\n      <td>23</td>\n      <td>2016</td>\n    </tr>\n  </tbody>\n</table>\n</div>"
     },
     "metadata": {},
     "execution_count": 2
    }
   ],
   "source": [
    "#Challenge 1\n",
    "df = pd.read_csv('earthquakes.csv')\n",
    "df.sort_values(by='impact.magnitude', ascending=False).head(5)"
   ]
  },
  {
   "cell_type": "code",
   "execution_count": 6,
   "metadata": {},
   "outputs": [
    {
     "output_type": "execute_result",
     "data": {
      "text/plain": [
       "location.name\n",
       "California                3609\n",
       "Alaska                    2195\n",
       "Nevada                     712\n",
       "Hawaii                     225\n",
       "Washington                 171\n",
       "Puerto Rico                156\n",
       "British Virgin Islands      98\n",
       "Montana                     96\n",
       "Oregon                      81\n",
       "Oklahoma                    66\n",
       "dtype: int64"
      ]
     },
     "metadata": {},
     "execution_count": 6
    }
   ],
   "source": [
    "#Challenge 2\n",
    "s = df.groupby('location.name').size()\n",
    "s.sort_values(ascending=False).head(10)"
   ]
  },
  {
   "cell_type": "code",
   "execution_count": 7,
   "metadata": {},
   "outputs": [],
   "source": [
    "#Challenge 3\n",
    "s.sort_values(ascending=False).head(10).to_csv('top10_active_earthquake_locations.csv')"
   ]
  },
  {
   "cell_type": "code",
   "execution_count": null,
   "metadata": {},
   "outputs": [],
   "source": []
  }
 ]
}